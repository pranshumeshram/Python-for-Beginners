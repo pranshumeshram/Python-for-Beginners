{
  "nbformat": 4,
  "nbformat_minor": 0,
  "metadata": {
    "colab": {
      "provenance": []
    },
    "kernelspec": {
      "name": "python3",
      "display_name": "Python 3"
    },
    "language_info": {
      "name": "python"
    }
  },
  "cells": [
    {
      "cell_type": "markdown",
      "source": [
        "#DATA TYPES\n",
        "\n",
        "In Python, data types are like categories that tell the computer what kind of data you're working with. They help the computer understand how to store and manipulate the data. Some common data types include:\n",
        "\n",
        "Integer (int): Whole numbers, like 10 or -3.\n",
        "\n",
        "Float (float): Decimal numbers, like 3.14 or -0.001.\n",
        "\n",
        "String (str): Text, like \"Hello\" or \"Python\".\n",
        "\n",
        "Boolean (bool): True or False values.\n",
        "\n",
        "Each data type has specific properties and uses, making it easier to handle different kinds of data in your programs."
      ],
      "metadata": {
        "id": "x3S3_Dk6d2Gp"
      }
    },
    {
      "cell_type": "code",
      "source": [
        "# Variables\n",
        "x = 10\n",
        "y = 3.14\n",
        "name = \"Alice\"\n",
        "is_valid = True\n",
        "list_var = [1, 2, 3]\n",
        "tuple_var = (4, 5, 6)\n",
        "dict_var = {'a': 1, 'b': 2}\n",
        "\n"
      ],
      "metadata": {
        "id": "V8ZWxi5cvCZl"
      },
      "execution_count": null,
      "outputs": []
    },
    {
      "cell_type": "markdown",
      "source": [
        "# Find and print data types"
      ],
      "metadata": {
        "id": "SVt6dIirvI-h"
      }
    },
    {
      "cell_type": "code",
      "source": [
        "# Find and print data types\n",
        "\n",
        "print(type(x))       # Prints: <class 'int'>\n",
        "print(type(y))       # Prints: <class 'float'>\n",
        "print(type(name))    # Prints: <class 'str'>\n",
        "print(type(is_valid)) # Prints: <class 'bool'>\n",
        "print(type(list_var)) # Prints: <class 'list'>\n",
        "print(type(tuple_var)) # Prints: <class 'tuple'>\n",
        "print(type(dict_var))  # Prints: <class 'dict'>"
      ],
      "metadata": {
        "id": "8PCs0jVtvM3v"
      },
      "execution_count": null,
      "outputs": []
    }
  ]
}