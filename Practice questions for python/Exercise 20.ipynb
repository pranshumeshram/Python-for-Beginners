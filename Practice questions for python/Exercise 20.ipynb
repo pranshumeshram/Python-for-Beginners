{
  "nbformat": 4,
  "nbformat_minor": 0,
  "metadata": {
    "colab": {
      "provenance": []
    },
    "kernelspec": {
      "name": "python3",
      "display_name": "Python 3"
    },
    "language_info": {
      "name": "python"
    }
  },
  "cells": [
    {
      "cell_type": "markdown",
      "source": [
        "1.Write a function to find all prime numbers up to a given number n using the Sieve of Eratosthenes algorithm.\n",
        "\n",
        "2.Create a function that takes a nested list and returns a flat list with all the elements in the same order. For example, [[1, 2, [3]], 4] should return [1, 2, 3, 4].\n",
        "\n",
        "3.Write a program that reads a text file and prints out the 5 most common words along with their counts. Ignore case and punctuation.\n",
        "\n",
        "4.Implement a function that returns the Fibonacci sequence up to the nth term, using both recursion and iteration. Compare the performance of each method for large values of n.\n",
        "\n",
        "5.Create a function that groups a list of strings by their length. The output should be a dictionary where each key is a length, and the value is a list of strings of that length."
      ],
      "metadata": {
        "id": "pPgqwba6RMbn"
      }
    },
    {
      "cell_type": "code",
      "source": [],
      "metadata": {
        "id": "V82JLpLUR3Sk"
      },
      "execution_count": null,
      "outputs": []
    }
  ]
}