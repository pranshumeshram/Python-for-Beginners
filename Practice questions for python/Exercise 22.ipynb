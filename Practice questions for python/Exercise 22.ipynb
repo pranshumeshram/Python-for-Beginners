{
  "nbformat": 4,
  "nbformat_minor": 0,
  "metadata": {
    "colab": {
      "provenance": []
    },
    "kernelspec": {
      "name": "python3",
      "display_name": "Python 3"
    },
    "language_info": {
      "name": "python"
    }
  },
  "cells": [
    {
      "cell_type": "markdown",
      "source": [
        "1.Write a function that takes a list of numbers and returns a new list with each element squared, but only if the original element is positive.\n",
        "\n",
        "2.Create a function that takes a string and returns the character with the highest frequency. If multiple characters have the same frequency, return the one that appears first in the string.\n",
        "\n",
        "3.Write a function to merge two dictionaries, summing values for any keys that appear in both dictionaries.\n",
        "\n",
        "4.Implement a function that takes a list of words and returns a list of anagrams grouped together. For example, [\"eat\", \"tea\", \"tan\", \"ate\", \"nat\", \"bat\"] should return [[\"eat\", \"tea\", \"ate\"], [\"tan\", \"nat\"], [\"bat\"]].\n",
        "\n",
        "5.Write a function to check if a given number is an Armstrong number (e.g., 153 = 1^3 + 5^3 + 3^3). The function should work for numbers with any number of digits."
      ],
      "metadata": {
        "id": "pPgqwba6RMbn"
      }
    },
    {
      "cell_type": "code",
      "source": [],
      "metadata": {
        "id": "M2fGAPKiTEDN"
      },
      "execution_count": null,
      "outputs": []
    },
    {
      "cell_type": "code",
      "source": [],
      "metadata": {
        "id": "V82JLpLUR3Sk"
      },
      "execution_count": null,
      "outputs": []
    }
  ]
}