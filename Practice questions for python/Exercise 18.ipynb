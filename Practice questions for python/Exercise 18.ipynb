{
  "nbformat": 4,
  "nbformat_minor": 0,
  "metadata": {
    "colab": {
      "provenance": []
    },
    "kernelspec": {
      "name": "python3",
      "display_name": "Python 3"
    },
    "language_info": {
      "name": "python"
    }
  },
  "cells": [
    {
      "cell_type": "markdown",
      "source": [
        "# Questions"
      ],
      "metadata": {
        "id": "18ccfIMf7BVT"
      }
    },
    {
      "cell_type": "markdown",
      "source": [
        "1.Remove Even Numbers:\n",
        "Write a Python program that removes all even numbers from the list [1, 2, 3, 4, 5, 6, 7, 8, 9, 10] using list comprehension. Print the resulting list.\n",
        "\n",
        "\n",
        "\n",
        "2.Count Word Frequency:\n",
        "Write a Python program that counts the frequency of each word in the sentence \"apple banana apple orange banana apple\". Use a dictionary to store each word as a key and its count as the value. Print the dictionary.\n",
        "\n",
        "\n",
        "\n",
        "3.Find Squares of Odd Numbers:\n",
        "Given a list [1, 2, 3, 4, 5, 6, 7, 8, 9], write a program to create a new list that contains the squares of all the odd numbers in the original list. Use list comprehension."
      ],
      "metadata": {
        "id": "6-2WbyFX7DQB"
      }
    }
  ]
}