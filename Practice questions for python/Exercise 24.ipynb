{
  "nbformat": 4,
  "nbformat_minor": 0,
  "metadata": {
    "colab": {
      "provenance": []
    },
    "kernelspec": {
      "name": "python3",
      "display_name": "Python 3"
    },
    "language_info": {
      "name": "python"
    }
  },
  "cells": [
    {
      "cell_type": "markdown",
      "source": [
        "# PRACTICE QUESTIONS FOR PYTHON"
      ],
      "metadata": {
        "id": "sbN5wpgstbtX"
      }
    },
    {
      "cell_type": "markdown",
      "source": [
        "1. Write a program to find the simple interest when the value of\n",
        "principle,rate of interest and time period is given.\n",
        "\n",
        "2. Write a program to find the volume of the cylinder. Also find the\n",
        "cost when ,when the cost of 1litre milk is 40Rs.\n",
        "3. Write a program that will tell whether the given number is divisible\n",
        "by 3 & 6.\n",
        "4. Write a program that will determine weather when the value of\n",
        "temperature and humidity is provided by the user.\n",
        "TEMPERATURE(C) HUMIDITY(%) WEATHER\n",
        ">= 30 >=90 Hot and Humid\n",
        ">= 30 < 90 Hot\n",
        "<30 >= 90 Cool and Humid\n",
        "<30 <90 Cool\n",
        "\n",
        "5. Write a program that will take three digits from the user and add\n",
        "the square of each digit."
      ],
      "metadata": {
        "id": "zbCk7LQ1tRRT"
      }
    }
  ]
}