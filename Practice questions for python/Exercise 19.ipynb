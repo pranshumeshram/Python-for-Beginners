{
  "nbformat": 4,
  "nbformat_minor": 0,
  "metadata": {
    "colab": {
      "provenance": []
    },
    "kernelspec": {
      "name": "python3",
      "display_name": "Python 3"
    },
    "language_info": {
      "name": "python"
    }
  },
  "cells": [
    {
      "cell_type": "markdown",
      "source": [
        "# Questions"
      ],
      "metadata": {
        "id": "18ccfIMf7BVT"
      }
    },
    {
      "cell_type": "markdown",
      "source": [
        "1.Reverse Words in a Sentence:\n",
        "Write a Python program that takes the string \"Hello world from Python\" and prints a new string where the words are in reverse order. The output should be \"Python from world Hello\".\n",
        "\n",
        "\n",
        "\n",
        "2.Find the Longest Word:\n",
        "Write a Python program to find the longest word in the list [\"Python\", \"is\", \"a\", \"wonderful\", \"programming\", \"language\"]. Print the longest word and its length.\n",
        "\n",
        "\n",
        "\n",
        "\n",
        "3.Convert Celsius to Fahrenheit:\n",
        "Given a list of temperatures in Celsius [0, 20, 37, 100], write a program to convert each temperature to Fahrenheit and store them in a new list. Use list comprehension to accomplish this.\n",
        "(Hint: Formula is F = C * 9/5 + 32)"
      ],
      "metadata": {
        "id": "6-2WbyFX7DQB"
      }
    }
  ]
}