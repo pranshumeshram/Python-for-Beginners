{
  "nbformat": 4,
  "nbformat_minor": 0,
  "metadata": {
    "colab": {
      "provenance": []
    },
    "kernelspec": {
      "name": "python3",
      "display_name": "Python 3"
    },
    "language_info": {
      "name": "python"
    }
  },
  "cells": [
    {
      "cell_type": "markdown",
      "source": [
        "# PRACTICE QUESTIONS FOR PYTHON"
      ],
      "metadata": {
        "id": "sbN5wpgstbtX"
      }
    },
    {
      "cell_type": "markdown",
      "source": [
        "1. User will input (3ages).Find the oldest one.\n",
        "\n",
        "2. Write a program that will convert celsius value to fahrenheit.\n",
        "3. User will input (2numbers).Write a program to swap the numbers\n",
        "4. Write a program that will give you the sum of 3 digits\n",
        "5. Write a program that will reverse a four digit number.Also it checks\n",
        "whether the reverse is true.\n",
        "6. Write a program that will tell whether the number entered by the\n",
        "user is odd or even.\n",
        "7. Write a program that will tell whether the given year is a leap year\n",
        "or not.\n",
        "8. Write a program to find the euclidean distance between two\n",
        "coordinates.\n",
        "9. Write a program that take a user inputr of three angles and will\n",
        "find out whether it can form a triangle or not.\n",
        "10. Write a program that will take user input of cost price and selling\n",
        "price and determines whether its a loss or a profit."
      ],
      "metadata": {
        "id": "zbCk7LQ1tRRT"
      }
    }
  ]
}