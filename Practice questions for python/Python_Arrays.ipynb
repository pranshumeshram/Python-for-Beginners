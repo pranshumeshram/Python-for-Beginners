{
  "nbformat": 4,
  "nbformat_minor": 0,
  "metadata": {
    "colab": {
      "name": "Python_Arrays.ipynb",
      "version": "0.3.2",
      "provenance": [],
      "collapsed_sections": []
    },
    "kernelspec": {
      "name": "python3",
      "display_name": "Python 3"
    }
  },
  "cells": [
    {
      "cell_type": "markdown",
      "metadata": {
        "id": "hpU27MwN1GeL",
        "colab_type": "text"
      },
      "source": [
        "#Python Arrays\n",
        "\n",
        "**Arrays**\n",
        "\n",
        "*Arrays* are used to store multiple values in one single variable:\n",
        "\n",
        "---\n",
        "\n"
      ]
    },
    {
      "cell_type": "code",
      "metadata": {
        "id": "Hh47clrrzmWD",
        "colab_type": "code",
        "outputId": "e5f1e9fc-4d2a-4e0f-fa55-302d953c2f9f",
        "colab": {
          "base_uri": "https://localhost:8080/",
          "height": 34
        }
      },
      "source": [
        "# Create an array containing car names:\n",
        "\n",
        "cars = [\"Ford\", \"Volvo\", \"BMW\"]\n",
        "print(cars)"
      ],
      "execution_count": 0,
      "outputs": [
        {
          "output_type": "stream",
          "text": [
            "['Ford', 'Volvo', 'BMW']\n"
          ],
          "name": "stdout"
        }
      ]
    },
    {
      "cell_type": "markdown",
      "metadata": {
        "id": "rj9YvMuz1jqV",
        "colab_type": "text"
      },
      "source": [
        "**What is an Array?**\n",
        "\n",
        "An array is a special variable, which can hold more than one value at a time.\n",
        "\n",
        "If you have a list of items (a list of car names, for example), storing the cars in single variables could look like this:\n",
        "\n",
        "---\n",
        "\n",
        "car1 = \"Ford\";\n",
        "\n",
        "car2 = \"Volvo\";\n",
        "\n",
        "car3 = \"BMW\";\n",
        "\n",
        "---\n",
        "\n",
        "However, what if you want to loop through the cars and find a specific one? And what if you had not 3 cars, but 300?\n",
        "\n",
        "The solution is an array!\n",
        "\n",
        "An array can hold many values under a single name, and you can access the values by referring to an index number."
      ]
    },
    {
      "cell_type": "markdown",
      "metadata": {
        "id": "ftg4Mhq_3FgM",
        "colab_type": "text"
      },
      "source": [
        "**Access the Elements of an Array**\n",
        "\n",
        "You refer to an array element by referring to the index number."
      ]
    },
    {
      "cell_type": "code",
      "metadata": {
        "id": "-0XBHRqy1ipM",
        "colab_type": "code",
        "outputId": "edbe738a-4c6e-4473-e915-0bd3adf2f510",
        "colab": {
          "base_uri": "https://localhost:8080/",
          "height": 34
        }
      },
      "source": [
        "# Get the value of the first array item:\n",
        "\n",
        "cars = [\"Ford\", \"Volvo\", \"BMW\"]\n",
        "\n",
        "x = cars[0]\n",
        "print(x)"
      ],
      "execution_count": 0,
      "outputs": [
        {
          "output_type": "stream",
          "text": [
            "Ford\n"
          ],
          "name": "stdout"
        }
      ]
    },
    {
      "cell_type": "markdown",
      "metadata": {
        "id": "9E9JCYNp3hXy",
        "colab_type": "text"
      },
      "source": [
        "Modify the value of the first array item:"
      ]
    },
    {
      "cell_type": "code",
      "metadata": {
        "id": "mtHLDsgJ3mmc",
        "colab_type": "code",
        "outputId": "8155bbec-b519-4d92-b152-ac835958a39f",
        "colab": {
          "base_uri": "https://localhost:8080/",
          "height": 34
        }
      },
      "source": [
        "cars[0] = \"Toyota\"\n",
        "print(cars)"
      ],
      "execution_count": 0,
      "outputs": [
        {
          "output_type": "stream",
          "text": [
            "['Toyota', 'Volvo', 'BMW']\n"
          ],
          "name": "stdout"
        }
      ]
    },
    {
      "cell_type": "markdown",
      "metadata": {
        "id": "gvCGMmKj35bA",
        "colab_type": "text"
      },
      "source": [
        "**The Length of an Array**\n",
        "\n",
        "Use the len() method to return the length of an array (the number of elements in an array).\n",
        "\n",
        "---\n",
        "\n",
        "Return the number of elements in the cars array:"
      ]
    },
    {
      "cell_type": "code",
      "metadata": {
        "id": "2ax2MNVS3w_J",
        "colab_type": "code",
        "outputId": "9a7891e3-ed8a-4beb-fb21-e4cec9b1ed5d",
        "colab": {
          "base_uri": "https://localhost:8080/",
          "height": 34
        }
      },
      "source": [
        "x = len(cars)\n",
        "print(x)"
      ],
      "execution_count": 0,
      "outputs": [
        {
          "output_type": "stream",
          "text": [
            "3\n"
          ],
          "name": "stdout"
        }
      ]
    },
    {
      "cell_type": "markdown",
      "metadata": {
        "id": "IFi0GgHZ4Lpx",
        "colab_type": "text"
      },
      "source": [
        "**Looping Array Elements**\n",
        "\n",
        "You can use the for in loop to loop through all the elements of an array.\n",
        "\n",
        "---\n",
        "\n"
      ]
    },
    {
      "cell_type": "code",
      "metadata": {
        "id": "kZPHyflC4Ofg",
        "colab_type": "code",
        "outputId": "ab831242-0b32-43d3-b4e8-3572d1d426e6",
        "colab": {
          "base_uri": "https://localhost:8080/",
          "height": 68
        }
      },
      "source": [
        "for x in cars:\n",
        "  print(x)"
      ],
      "execution_count": 0,
      "outputs": [
        {
          "output_type": "stream",
          "text": [
            "Toyota\n",
            "Volvo\n",
            "BMW\n"
          ],
          "name": "stdout"
        }
      ]
    },
    {
      "cell_type": "markdown",
      "metadata": {
        "id": "yFqL00Yr4WZK",
        "colab_type": "text"
      },
      "source": [
        "**Adding Array Elements**\n",
        "\n",
        "You can use the append() method to add an element to an array.\n",
        "\n",
        "---\n",
        "\n",
        "Add one more element to the cars array:"
      ]
    },
    {
      "cell_type": "code",
      "metadata": {
        "id": "15y-rLoy4es6",
        "colab_type": "code",
        "outputId": "34e3c8a9-79a7-4376-8c43-fa7ab1ef6f06",
        "colab": {
          "base_uri": "https://localhost:8080/",
          "height": 34
        }
      },
      "source": [
        "cars.append(\"Honda\")\n",
        "print(cars)"
      ],
      "execution_count": 0,
      "outputs": [
        {
          "output_type": "stream",
          "text": [
            "['Toyota', 'Volvo', 'BMW', 'Honda']\n"
          ],
          "name": "stdout"
        }
      ]
    },
    {
      "cell_type": "markdown",
      "metadata": {
        "id": "RA5P3Fon4oYO",
        "colab_type": "text"
      },
      "source": [
        "**Removing Array Elements**\n",
        "\n",
        "You can use the pop() method to remove an element from the array.\n",
        "\n",
        "---\n",
        "\n",
        "Delete the second element of the cars array:"
      ]
    },
    {
      "cell_type": "code",
      "metadata": {
        "id": "_lfOJm6v4tDS",
        "colab_type": "code",
        "outputId": "0e6f5941-6d39-44bb-988d-c9da0af53f9d",
        "colab": {
          "base_uri": "https://localhost:8080/",
          "height": 34
        }
      },
      "source": [
        "cars.pop(1)\n",
        "print(cars)"
      ],
      "execution_count": 0,
      "outputs": [
        {
          "output_type": "stream",
          "text": [
            "['Toyota', 'BMW', 'Honda']\n"
          ],
          "name": "stdout"
        }
      ]
    },
    {
      "cell_type": "markdown",
      "metadata": {
        "id": "uxgWqWZr4yYn",
        "colab_type": "text"
      },
      "source": [
        "You can also use the **remove() method** to remove an element from the array.\n",
        "\n",
        "---\n",
        "\n",
        "Delete the element that has the value \"Volvo\":"
      ]
    },
    {
      "cell_type": "code",
      "metadata": {
        "id": "L888_Q_B43An",
        "colab_type": "code",
        "outputId": "c3718045-1e18-4b34-ceae-ea5587b08260",
        "colab": {
          "base_uri": "https://localhost:8080/",
          "height": 34
        }
      },
      "source": [
        "cars = [\"Ford\", \"Volvo\", \"BMW\"]\n",
        "\n",
        "cars.remove(\"Volvo\")\n",
        "\n",
        "print(cars)"
      ],
      "execution_count": 0,
      "outputs": [
        {
          "output_type": "stream",
          "text": [
            "['Ford', 'BMW']\n"
          ],
          "name": "stdout"
        }
      ]
    },
    {
      "cell_type": "markdown",
      "metadata": {
        "id": "iEFZqg225viG",
        "colab_type": "text"
      },
      "source": [
        "#Array Methods\n",
        "\n",
        "**Python has a set of built-in methods that you can use on lists/arrays.**\n",
        "\n",
        "---\n",
        "\n",
        "**Method\t            Description**\n",
        "\n",
        "\n",
        "---\n",
        "\n",
        "\n",
        "**append()**\t: Adds an element at the end of the list\n",
        "\n",
        "**clear()** :\tRemoves all the elements from the list\n",
        "\n",
        "**copy()** :\tReturns a copy of the list\n",
        "\n",
        "**count()** :\tReturns the number of elements with the specified value\n",
        "\n",
        "**extend()** :\tAdd the elements of a list (or any iterable), to the end of the current list\n",
        "\n",
        "**index()** :\tReturns the index of the first element with the specified value\n",
        "\n",
        "**insert()** :\tAdds an element at the specified position\n",
        "\n",
        "**pop()** : Removes the element at the specified position\n",
        "\n",
        "**remove()** :\tRemoves the first item with the specified value\n",
        "\n",
        "**reverse()** :\tReverses the order of the list\n",
        "\n",
        "**sort()** :\tSorts the list"
      ]
    }
  ]
}