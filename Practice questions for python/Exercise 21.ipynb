{
  "nbformat": 4,
  "nbformat_minor": 0,
  "metadata": {
    "colab": {
      "provenance": []
    },
    "kernelspec": {
      "name": "python3",
      "display_name": "Python 3"
    },
    "language_info": {
      "name": "python"
    }
  },
  "cells": [
    {
      "cell_type": "markdown",
      "source": [
        "1.Write a function that takes a list of integers and returns a new list with only the unique elements, in the order they first appeared.\n",
        "\n",
        "2.Create a dictionary comprehension that maps each character in a string to its frequency count. For example, 'hello' should return   {'h': 1, 'e': 1, 'l': 2, 'o': 1}.\n",
        "\n",
        "3.Write a function to check if a given string is a palindrome, ignoring spaces, punctuation, and capitalization.\n",
        "\n",
        "4.Given a list of tuples representing (name, age), write a function that returns a list of names sorted by age in ascending order.\n",
        "\n",
        "5.Implement a function that finds the most common element in a list. If there are multiple elements with the same frequency, return any one of them."
      ],
      "metadata": {
        "id": "pPgqwba6RMbn"
      }
    }
  ]
}